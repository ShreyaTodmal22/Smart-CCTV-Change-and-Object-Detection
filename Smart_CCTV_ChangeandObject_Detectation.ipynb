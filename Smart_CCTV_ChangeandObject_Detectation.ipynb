{
 "cells": [
  {
   "cell_type": "markdown",
   "metadata": {},
   "source": [
    "### Smart CCTV for Change and Object Detection using Open CV\n",
    "##### Shreya Todmal"
   ]
  },
  {
   "cell_type": "markdown",
   "metadata": {},
   "source": [
    "#### Importing libraries"
   ]
  },
  {
   "cell_type": "code",
   "execution_count": 1,
   "metadata": {},
   "outputs": [],
   "source": [
    "import cv2\n",
    "import numpy as np\n",
    "import os\n",
    "import matplotlib.pyplot as plt"
   ]
  },
  {
   "cell_type": "markdown",
   "metadata": {},
   "source": [
    "#### Function for keeping connected components"
   ]
  },
  {
   "cell_type": "code",
   "execution_count": 2,
   "metadata": {},
   "outputs": [],
   "source": [
    "def f_keepLargeComponents(I,th):\n",
    "    R = np.zeros(I.shape)<0\n",
    "    unique_labels = np.unique(I.flatten())\n",
    "    for label in unique_labels:\n",
    "        if label == 0:\n",
    "            pass\n",
    "        else:\n",
    "            I2 = I==label\n",
    "            if np.sum(I2)>th:\n",
    "                R = R | I2\n",
    "    return np.float32(255*R)"
   ]
  },
  {
   "cell_type": "code",
   "execution_count": 3,
   "metadata": {},
   "outputs": [],
   "source": [
    "#pip install cvlib"
   ]
  },
  {
   "cell_type": "code",
   "execution_count": 4,
   "metadata": {},
   "outputs": [],
   "source": [
    "#pip install tensorflow"
   ]
  },
  {
   "cell_type": "markdown",
   "metadata": {},
   "source": [
    "#### Function for object detection"
   ]
  },
  {
   "cell_type": "code",
   "execution_count": 5,
   "metadata": {},
   "outputs": [],
   "source": [
    "import cvlib as cv  \n",
    "from cvlib.object_detection import draw_bbox\n",
    "def f_saveSeq(C,counter,th,outPutPath): # defining a function for object detection\n",
    "    if len(C)<th:\n",
    "        pass\n",
    "    else:\n",
    "        k = 1\n",
    "        for frame in C:\n",
    "            imName = str(counter)+'_'+ str(k)+'.jpg'\n",
    "            finalPath = os.path.join(outPutPath,imName)\n",
    "            bbox,labels,conf = cv.detect_common_objects(frame)\n",
    "            frame = draw_bbox(frame,bbox,labels,conf)\n",
    "            cv2.imwrite(finalPath,frame)\n",
    "            k += 1"
   ]
  },
  {
   "cell_type": "markdown",
   "metadata": {},
   "source": [
    "#### Function for saving sequence"
   ]
  },
  {
   "cell_type": "code",
   "execution_count": 6,
   "metadata": {},
   "outputs": [],
   "source": [
    "def f_displaySeq(outPutPath): # function to display the output sequence\n",
    "    for imName in os.listdir(outPutPath):\n",
    "        frame = cv2.imread(os.path.join(outPutPath,imName))\n",
    "        frame = cv2.resize(frame,dsize=(600,400))\n",
    "        cv2.imshow('Display',frame)\n",
    "        k = cv2.waitKey(30) & 0xff\n",
    "        if k == 27:\n",
    "            break\n",
    "    cv2.destroyAllWindows()"
   ]
  },
  {
   "cell_type": "markdown",
   "metadata": {},
   "source": [
    "#### Displaying the saved sequence"
   ]
  },
  {
   "cell_type": "code",
   "execution_count": 8,
   "metadata": {},
   "outputs": [],
   "source": [
    "pth = r'C:\\Users\\Shreya\\Documents\\Data Analytics Project\\Open CV\\Sequence_data2'\n",
    "f_displaySeq(pth)"
   ]
  },
  {
   "cell_type": "markdown",
   "metadata": {},
   "source": [
    "#### Model for smart CCTV"
   ]
  },
  {
   "cell_type": "code",
   "execution_count": null,
   "metadata": {},
   "outputs": [],
   "source": [
    "#mPath = r'C:\\Users\\Shreya\\Documents\\Data Analytics Project\\Open CV\\GroundTruth'\n",
    "imPath = r'C:\\Users\\Shreya\\Documents\\Data Analytics Project\\Open CV\\Campus'\n",
    "#imPath = r'C:\\Users\\Shreya\\Documents\\Data Analytics Project\\Open CV\\ShoppingMall'\n",
    "fgModel = cv2.createBackgroundSubtractorMOG2() # model for creating a background subtract\n",
    "leastNumOfFrames = 5\n",
    "idx = []\n",
    "C = []\n",
    "counter = 0\n",
    "outPutPath = r'C:\\Users\\Shreya\\Documents\\Data Analytics Project\\Open CV\\Sequence_data2'\n",
    "for imName in os.listdir(imPath):  # read each frame \n",
    "    counter += 1\n",
    "    frame = cv2.imread(os.path.join(imPath,imName)) #Read every frame in sequence\n",
    "    frame = cv2.resize(frame,dsize=(600,400)) # resize every frame to same size\n",
    "    fgmask = fgModel.apply(frame) # applying background subtract model\n",
    "    K_r = cv2.getStructuringElement(cv2.MORPH_RECT,(3,3)) #  denoising model on each frame\n",
    "    fgmask = cv2.morphologyEx(np.float32(fgmask),cv2.MORPH_OPEN,K_r) # applying the denoising model\n",
    "    num_labels,labels_im = cv2.connectedComponents(np.array(fgmask>0,np.uint8)) # model for connected components\n",
    "    fgmask = f_keepLargeComponents(labels_im,1000) # applying the connected frame model\n",
    "    if np.sum(fgmask)>0: # loop to not consider background elements\n",
    "        idx.append(counter)\n",
    "        C.append(frame)\n",
    "    if len(idx) >= 2 and idx[-1] > idx[-2]+1: # loop to consider connected components\n",
    "        f_saveSeq(C,counter,leastNumOfFrames,outPutPath)\n",
    "        idx = []\n",
    "        C = []\n",
    "    F = np.zeros(frame.shape,np.uint8)\n",
    "    F[:,:,0],F[:,:,1],F[:,:,2] = fgmask, fgmask,fgmask # displaying the original and processed image side by side\n",
    "    F2 = np.hstack((frame,F))\n",
    "    cv2.imshow('Display',F2) # Display the image\n",
    "    k = cv2.waitKey(5) & 0xff # press escape to break the video loop/ escape video\n",
    "    if k == 27:\n",
    "        break\n",
    "f_saveSeq(C,counter,leastNumOfFrames,outPutPath) # saving the connected sequence\n",
    "cv2.destroyAllWindows()"
   ]
  },
  {
   "cell_type": "code",
   "execution_count": null,
   "metadata": {},
   "outputs": [],
   "source": []
  }
 ],
 "metadata": {
  "kernelspec": {
   "display_name": "Python 3 (ipykernel)",
   "language": "python",
   "name": "python3"
  },
  "language_info": {
   "codemirror_mode": {
    "name": "ipython",
    "version": 3
   },
   "file_extension": ".py",
   "mimetype": "text/x-python",
   "name": "python",
   "nbconvert_exporter": "python",
   "pygments_lexer": "ipython3",
   "version": "3.11.5"
  }
 },
 "nbformat": 4,
 "nbformat_minor": 4
}
